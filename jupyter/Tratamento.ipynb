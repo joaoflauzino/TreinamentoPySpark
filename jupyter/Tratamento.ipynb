{
 "metadata": {
  "language_info": {
   "codemirror_mode": {
    "name": "ipython",
    "version": 3
   },
   "file_extension": ".py",
   "mimetype": "text/x-python",
   "name": "python",
   "nbconvert_exporter": "python",
   "pygments_lexer": "ipython3",
   "version": "3.8.5-final"
  },
  "orig_nbformat": 2,
  "kernelspec": {
   "name": "python3",
   "display_name": "Python 3.8.5 64-bit ('miniconda3': virtualenv)",
   "metadata": {
    "interpreter": {
     "hash": "e2d0a7970c33c7ca13938fe3ac410849202128e14a82a65c75c556774fe3748f"
    }
   }
  }
 },
 "nbformat": 4,
 "nbformat_minor": 2,
 "cells": [
  {
   "source": [
    "## Bibliotecas"
   ],
   "cell_type": "markdown",
   "metadata": {}
  },
  {
   "cell_type": "code",
   "execution_count": 34,
   "metadata": {},
   "outputs": [],
   "source": [
    "from pyspark.sql import SparkSession\n",
    "from pyspark.sql.types import *\n",
    "from pyspark.sql import functions as F"
   ]
  },
  {
   "source": [
    "## Criação da Sessão do PySpark"
   ],
   "cell_type": "markdown",
   "metadata": {}
  },
  {
   "cell_type": "code",
   "execution_count": 4,
   "metadata": {},
   "outputs": [],
   "source": [
    "spark = SparkSession.builder.appName(\"Treinamento\").getOrCreate()"
   ]
  },
  {
   "source": [
    "## Leitura da Base"
   ],
   "cell_type": "markdown",
   "metadata": {}
  },
  {
   "cell_type": "code",
   "execution_count": 16,
   "metadata": {},
   "outputs": [],
   "source": [
    "schema = StructType([\n",
    "\n",
    "    StructField(\"datetime\", TimestampType(), True),\n",
    "    StructField(\"instance_type\", StringType(), True),\n",
    "    StructField(\"os\", StringType(), True),\n",
    "    StructField(\"region\", StringType(), True),\n",
    "    StructField(\"price\", DoubleType(), True)\n",
    "\n",
    "])"
   ]
  },
  {
   "source": [
    "%%time\n",
    "df = spark.read.csv('../datasets/*.csv', header = False, schema = schema)"
   ],
   "cell_type": "code",
   "metadata": {},
   "execution_count": 24,
   "outputs": [
    {
     "output_type": "stream",
     "name": "stdout",
     "text": [
      "CPU times: user 0 ns, sys: 0 ns, total: 0 ns\nWall time: 23.6 ms\n"
     ]
    }
   ]
  },
  {
   "cell_type": "code",
   "execution_count": 27,
   "metadata": {},
   "outputs": [
    {
     "output_type": "stream",
     "name": "stdout",
     "text": [
      "+-------------------+-------------+----------+---------------+------+\n|           datetime|instance_type|        os|         region| price|\n+-------------------+-------------+----------+---------------+------+\n|2017-05-08 18:46:36|   c3.8xlarge|   Windows|ap-northeast-1a|1.6503|\n|2017-05-08 18:46:36|   c3.8xlarge|   Windows|ap-northeast-1c|1.7461|\n|2017-05-08 18:46:34|     i3.large|SUSE Linux|ap-northeast-1c|0.1223|\n|2017-05-08 18:46:34|     i3.large|Linux/UNIX|ap-northeast-1c|0.0223|\n|2017-05-08 18:46:17|   c4.8xlarge|SUSE Linux|ap-northeast-1a| 0.789|\n+-------------------+-------------+----------+---------------+------+\nonly showing top 5 rows\n\n"
     ]
    }
   ],
   "source": [
    "df.show(5)"
   ]
  },
  {
   "cell_type": "code",
   "execution_count": 28,
   "metadata": {},
   "outputs": [
    {
     "output_type": "execute_result",
     "data": {
      "text/plain": [
       "27410309"
      ]
     },
     "metadata": {},
     "execution_count": 28
    }
   ],
   "source": [
    "df.count()"
   ]
  },
  {
   "cell_type": "code",
   "execution_count": 29,
   "metadata": {},
   "outputs": [],
   "source": [
    "# CRiando uma view temporária\n",
    "df.createOrReplaceTempView(\"Spots\")"
   ]
  },
  {
   "source": [
    "## Conhecendo o negócio"
   ],
   "cell_type": "markdown",
   "metadata": {}
  },
  {
   "cell_type": "code",
   "execution_count": 30,
   "metadata": {},
   "outputs": [
    {
     "output_type": "execute_result",
     "data": {
      "text/plain": [
       "68"
      ]
     },
     "metadata": {},
     "execution_count": 30
    }
   ],
   "source": [
    "# Quantas instâncias distintas temos?\n",
    "df.select('instance_type').distinct().count()"
   ]
  },
  {
   "cell_type": "code",
   "execution_count": 31,
   "metadata": {},
   "outputs": [
    {
     "output_type": "stream",
     "name": "stdout",
     "text": [
      "+-------------+\n|instance_type|\n+-------------+\n|     c4.large|\n|   g2.2xlarge|\n|    r4.xlarge|\n|   r3.4xlarge|\n|     t1.micro|\n|    c1.medium|\n|    r3.xlarge|\n|    m1.xlarge|\n|     m1.small|\n|   i3.2xlarge|\n|   g2.8xlarge|\n|   c4.2xlarge|\n|  cr1.8xlarge|\n|     r4.large|\n|   f1.2xlarge|\n|    m3.xlarge|\n|  p2.16xlarge|\n|  i3.16xlarge|\n|    p2.xlarge|\n|   c4.8xlarge|\n+-------------+\nonly showing top 20 rows\n\n"
     ]
    }
   ],
   "source": [
    "df.select('instance_type').distinct().show()"
   ]
  },
  {
   "cell_type": "code",
   "execution_count": 32,
   "metadata": {},
   "outputs": [
    {
     "output_type": "stream",
     "name": "stdout",
     "text": [
      "+----------+\n|        os|\n+----------+\n|Linux/UNIX|\n|SUSE Linux|\n|   Windows|\n+----------+\n\n"
     ]
    }
   ],
   "source": [
    "# Quais são os sistemas operacionais disponibilizados pela AWS?\n",
    "df.select('os').distinct().show()"
   ]
  },
  {
   "cell_type": "code",
   "execution_count": 33,
   "metadata": {},
   "outputs": [
    {
     "output_type": "stream",
     "name": "stdout",
     "text": [
      "+----------+\n|        os|\n+----------+\n|Linux/UNIX|\n|SUSE Linux|\n|   Windows|\n+----------+\n\n"
     ]
    }
   ],
   "source": [
    "spark.sql(\n",
    "    \"\"\"\n",
    "    SELECT DISTINCT os\n",
    "\n",
    "    FROM Spots\n",
    "\n",
    "    \"\"\"\n",
    "\n",
    ").show()"
   ]
  },
  {
   "cell_type": "code",
   "execution_count": 38,
   "metadata": {},
   "outputs": [
    {
     "output_type": "stream",
     "name": "stdout",
     "text": [
      "+---------+---------+---------+\n|price_avg|price_max|price_min|\n+---------+---------+---------+\n|     0.45|    39.28|   0.0156|\n+---------+---------+---------+\n\n"
     ]
    }
   ],
   "source": [
    "# Qual a média, max e min de preços das instâncias do tipo c3?\n",
    "df.filter(df.instance_type.contains(\"c3\")).agg(\n",
    "                                                F.round(F.avg(df.price), 2).alias('price_avg'),\n",
    "                                                F.max(df.price).alias('price_max'),\n",
    "                                                F.min(df.price).alias('price_min')\n",
    "                                                ).show()"
   ]
  },
  {
   "cell_type": "code",
   "execution_count": 40,
   "metadata": {},
   "outputs": [
    {
     "output_type": "stream",
     "name": "stdout",
     "text": [
      "+---------+---------+---------+\n|price_avg|price_max|price_min|\n+---------+---------+---------+\n|     0.45|    39.28|   0.0156|\n+---------+---------+---------+\n\n"
     ]
    }
   ],
   "source": [
    "spark.sql(\n",
    "    \"\"\"\n",
    "    SELECT round(avg(price),2) price_avg,\n",
    "           max(price) price_max,\n",
    "           min(price) price_min\n",
    "\n",
    "    FROM Spots\n",
    "\n",
    "    WHERE instance_type like '%c3%'\n",
    "\n",
    "    \"\"\"\n",
    ").show()"
   ]
  },
  {
   "cell_type": "code",
   "execution_count": 52,
   "metadata": {},
   "outputs": [
    {
     "output_type": "stream",
     "name": "stdout",
     "text": [
      "+----------+------------------+\n|        os|               avg|\n+----------+------------------+\n|   Windows|1.1430238399887047|\n|SUSE Linux|0.3825099062942484|\n|Linux/UNIX|0.3333808063383933|\n+----------+------------------+\n\n"
     ]
    }
   ],
   "source": [
    "# Se as maquinas windows em média são mais caras que as outras?\n",
    "df.groupBy('os').agg(F.avg(df.price).alias('avg')).sort(F.col('avg').desc()).show()"
   ]
  },
  {
   "source": [
    "## Aplicando regras"
   ],
   "cell_type": "markdown",
   "metadata": {}
  },
  {
   "cell_type": "code",
   "execution_count": 62,
   "metadata": {},
   "outputs": [],
   "source": [
    "df_tratamento = df.withColumn(\"tipo\", F.split(df['instance_type'], \"\\.\")[0])"
   ]
  },
  {
   "cell_type": "code",
   "execution_count": 63,
   "metadata": {},
   "outputs": [
    {
     "output_type": "stream",
     "name": "stdout",
     "text": [
      "+-------------------+-------------+----------+---------------+------+----+\n|           datetime|instance_type|        os|         region| price|tipo|\n+-------------------+-------------+----------+---------------+------+----+\n|2017-05-08 18:46:36|   c3.8xlarge|   Windows|ap-northeast-1a|1.6503|  c3|\n|2017-05-08 18:46:36|   c3.8xlarge|   Windows|ap-northeast-1c|1.7461|  c3|\n|2017-05-08 18:46:34|     i3.large|SUSE Linux|ap-northeast-1c|0.1223|  i3|\n|2017-05-08 18:46:34|     i3.large|Linux/UNIX|ap-northeast-1c|0.0223|  i3|\n|2017-05-08 18:46:17|   c4.8xlarge|SUSE Linux|ap-northeast-1a| 0.789|  c4|\n|2017-05-08 18:46:17|   c4.8xlarge|Linux/UNIX|ap-northeast-1a| 0.689|  c4|\n|2017-05-08 18:46:17|   m2.4xlarge|SUSE Linux|ap-northeast-1c|0.2782|  m2|\n|2017-05-08 18:46:17|   m2.4xlarge|Linux/UNIX|ap-northeast-1c|0.1782|  m2|\n|2017-05-08 18:46:10|   r3.2xlarge|SUSE Linux|ap-northeast-1c|0.2282|  r3|\n|2017-05-08 18:46:10|   r3.2xlarge|Linux/UNIX|ap-northeast-1c|0.1282|  r3|\n|2017-05-08 18:46:09|    r3.xlarge|SUSE Linux|ap-northeast-1c|0.1536|  r3|\n|2017-05-08 18:46:09|    r3.xlarge|Linux/UNIX|ap-northeast-1c|0.0536|  r3|\n|2017-05-08 18:46:05|    i2.xlarge|SUSE Linux|ap-northeast-1a|0.2134|  i2|\n|2017-05-08 18:46:05|    i2.xlarge|Linux/UNIX|ap-northeast-1a|0.1134|  i2|\n|2017-05-08 18:46:04|     c4.large|SUSE Linux|ap-northeast-1c|  0.13|  c4|\n|2017-05-08 18:46:04|     c4.large|Linux/UNIX|ap-northeast-1c|  0.03|  c4|\n|2017-05-08 18:46:03|   c4.8xlarge|   Windows|ap-northeast-1a|1.6561|  c4|\n|2017-05-08 18:46:03|    c4.xlarge|SUSE Linux|ap-northeast-1c|0.1749|  c4|\n|2017-05-08 18:46:03|    c4.xlarge|Linux/UNIX|ap-northeast-1c|0.0749|  c4|\n|2017-05-08 18:46:01|    m1.xlarge|SUSE Linux|ap-northeast-1c| 0.141|  m1|\n+-------------------+-------------+----------+---------------+------+----+\nonly showing top 20 rows\n\n"
     ]
    }
   ],
   "source": [
    "df_tratamento.show()"
   ]
  },
  {
   "cell_type": "code",
   "execution_count": 71,
   "metadata": {},
   "outputs": [],
   "source": [
    "# Média por familia\n",
    "df_type = df_tratamento.groupBy('tipo').agg(F.avg(df.price).alias('Avg')).sort(F.col('Avg').desc())"
   ]
  },
  {
   "cell_type": "code",
   "execution_count": 72,
   "metadata": {},
   "outputs": [],
   "source": [
    "df_type = df_type.withColumn('os', F.lit(\"TESTE\"))"
   ]
  },
  {
   "cell_type": "code",
   "execution_count": 86,
   "metadata": {},
   "outputs": [],
   "source": [
    "# df_teste = df_tratamento.join(df_type, ['tipo'], how = 'left')\n",
    "df_tratamento = df_tratamento.alias('A').join(df_type.alias('B'),\n",
    "                              F.col('A.tipo') == F.col('B.tipo'),\n",
    "                              how = 'left').select(\n",
    "                                  [F.col('A.' + xx) for xx in df_tratamento.columns] + [F.col('B.avg')]\n",
    "                              )"
   ]
  },
  {
   "cell_type": "code",
   "execution_count": 90,
   "metadata": {},
   "outputs": [],
   "source": [
    "# Realizar condição que classifica um preço como ALTO ou BAIXO comparando preço e avg\n",
    "df_tratamento = df_tratamento.withColumn('classificacao', F.when(df.price > df_tratamento.avg, \"ALTO\").otherwise(\"BAIXO\"))\n"
   ]
  },
  {
   "cell_type": "code",
   "execution_count": 93,
   "metadata": {},
   "outputs": [
    {
     "output_type": "stream",
     "name": "stdout",
     "text": [
      "+-------------+--------+\n|classificacao|   count|\n+-------------+--------+\n|        BAIXO|20028455|\n|         ALTO| 7381854|\n+-------------+--------+\n\n"
     ]
    }
   ],
   "source": [
    "# Count por classificacao\n",
    "df_tratamento.groupBy('classificacao').count().show()"
   ]
  },
  {
   "cell_type": "code",
   "execution_count": 102,
   "metadata": {},
   "outputs": [],
   "source": [
    "# Transformar dataframe em parquet\n",
    "df_tratamento.limit(1000).write.mode('overwrite').partitionBy('classificacao').parquet('../datasets/tratamento.parquet')"
   ]
  }
 ]
}